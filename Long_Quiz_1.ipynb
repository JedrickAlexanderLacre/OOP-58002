{
  "nbformat": 4,
  "nbformat_minor": 0,
  "metadata": {
    "colab": {
      "name": "Long Quiz #1",
      "provenance": [],
      "authorship_tag": "ABX9TyMK+c4ueutjSfOUZ8U+AA+d",
      "include_colab_link": true
    },
    "kernelspec": {
      "name": "python3",
      "display_name": "Python 3"
    },
    "language_info": {
      "name": "python"
    }
  },
  "cells": [
    {
      "cell_type": "markdown",
      "metadata": {
        "id": "view-in-github",
        "colab_type": "text"
      },
      "source": [
        "<a href=\"https://colab.research.google.com/github/Zxlyxc/OOP-58002/blob/main/Long_Quiz_1.ipynb\" target=\"_parent\"><img src=\"https://colab.research.google.com/assets/colab-badge.svg\" alt=\"Open In Colab\"/></a>"
      ]
    },
    {
      "cell_type": "markdown",
      "source": [
        "Long Quiz #1\n"
      ],
      "metadata": {
        "id": "zpOtbpdugk1-"
      }
    },
    {
      "cell_type": "code",
      "source": [
        "class Temperature:\n",
        "  def _init_ (temp):\n",
        "    self.temp = temp\n",
        "  def Celsius(c):\n",
        "    return(temp * 9/5) + 32\n",
        "\n",
        "  def Fahrenheit(f):\n",
        "    return(temp - 32) * 5/9 \n",
        "\n",
        "  def display(self):\n",
        "    if convert == 'c':\n",
        "      print(temp, \"Celsius is\" , self.Celsius(), \"Fahrenheit\")\n",
        "    elif convert == 'f':\n",
        "      print(temp, \"Fahrenheit equals\", self.Fahrenheit(), \"Celsius\")\n",
        "    elif convert == 'C':\n",
        "      print(temp, \"Celsius is\", self.Celsius(), \"Fahrenheit\")\n",
        "    elif convert == 'F':\n",
        "      print(temp, \"Fahrenheit equals\", self.Fahrenheit(), \"Celsius\")\n",
        "    else:\n",
        "      print(\"Error! Invalid Input Please try again.\")\n",
        "\n",
        "\n",
        "temp = float(input(\"Please enter the temperature:\"))\n",
        "convert = input(\"Convert to Celsius or Fahrenheit? (C/F): \")\n",
        "View = Temperature()\n",
        "View.display()"
      ],
      "metadata": {
        "colab": {
          "base_uri": "https://localhost:8080/"
        },
        "id": "1RmEEJLegoD4",
        "outputId": "b32e14c8-060f-46aa-b604-28cb6693029f"
      },
      "execution_count": 3,
      "outputs": [
        {
          "output_type": "stream",
          "name": "stdout",
          "text": [
            "Please enter the temperature:50\n",
            "Convert to Celsius or Fahrenheit? (C/F): F\n",
            "50.0 Fahrenheit equals 10.0 Celsius\n"
          ]
        }
      ]
    },
    {
      "cell_type": "code",
      "source": [
        ""
      ],
      "metadata": {
        "id": "ktcZc-7whQUQ"
      },
      "execution_count": null,
      "outputs": []
    }
  ]
}