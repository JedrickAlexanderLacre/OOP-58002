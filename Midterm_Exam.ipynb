{
  "nbformat": 4,
  "nbformat_minor": 0,
  "metadata": {
    "colab": {
      "name": "Midterm Exam.ipynb",
      "provenance": [],
      "authorship_tag": "ABX9TyMwlNvy3co9SRRKRlM2ODch",
      "include_colab_link": true
    },
    "kernelspec": {
      "name": "python3",
      "display_name": "Python 3"
    },
    "language_info": {
      "name": "python"
    }
  },
  "cells": [
    {
      "cell_type": "markdown",
      "metadata": {
        "id": "view-in-github",
        "colab_type": "text"
      },
      "source": [
        "<a href=\"https://colab.research.google.com/github/Zxlyxc/OOP-58002/blob/main/Midterm_Exam.ipynb\" target=\"_parent\"><img src=\"https://colab.research.google.com/assets/colab-badge.svg\" alt=\"Open In Colab\"/></a>"
      ]
    },
    {
      "cell_type": "code",
      "execution_count": null,
      "metadata": {
        "id": "v2eXDNdR-Jt3"
      },
      "outputs": [],
      "source": [
        "Part 1"
      ]
    },
    {
      "cell_type": "code",
      "source": [
        "def main():\n",
        "    class TemperatureConversion:\n",
        "        def __init__(self, temp=1):\n",
        "            self._temp = temp\n",
        "    class CelsiusToFahrenheit(TemperatureConversion):\n",
        "        def conversion(self):\n",
        "            return (self._temp * 9) / 5 + 32\n",
        "    class CelsiusToKelvin(TemperatureConversion):\n",
        "        def conversion(self):\n",
        "            return self._temp + 273.15\n",
        "    class KelvinToCelsius(TemperatureConversion):\n",
        "        def conversion(self):\n",
        "            return self._temp - 273.15\n",
        "    class FahrenheitToCelsius(TemperatureConversion):\n",
        "        def conversion(self):\n",
        "            return (self._temp * 32) - 5 / 9\n",
        "\n",
        "    tempInCelsius = float(input(\"Enter the temperature in Celsius: \"))\n",
        "    tempInKelvin = float(input(\"Enter the temperature in Kelvin: \"))\n",
        "    tempInFahrenheit = float(input(\"Enter the temperature in Fahrenheit: \"))\n",
        "\n",
        "    convert1 = CelsiusToKelvin(tempInCelsius)\n",
        "    convert2 = KelvinToCelsius(tempInKelvin)\n",
        "    convert3= FahrenheitToCelsius(tempInKelvin)\n",
        "\n",
        "    print(str(convert.conversion()) + \" Celsius to Kelvin\")\n",
        "    print(str(convert2.conversion()) + \" Kelvin to Celsius\")\n",
        "\n",
        "    convert = CelsiusToFahrenheit(tempInCelsius)\n",
        "\n",
        "    print(str(convert.conversion()) + \" Celsius to Fahrenheit\")\n",
        "    print(str(convert3.conversion()) + \" Fahrenheit to Celsius\")\n"
      ],
      "metadata": {
        "id": "W79eN5WQ-hfK"
      },
      "execution_count": 2,
      "outputs": []
    }
  ]
}