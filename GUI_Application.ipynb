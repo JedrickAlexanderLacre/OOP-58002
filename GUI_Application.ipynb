{
  "nbformat": 4,
  "nbformat_minor": 0,
  "metadata": {
    "colab": {
      "name": "GUI Application.ipynb",
      "provenance": [],
      "authorship_tag": "ABX9TyMw6VJK4l+ThjrfV5IIaCF7",
      "include_colab_link": true
    },
    "kernelspec": {
      "name": "python3",
      "display_name": "Python 3"
    },
    "language_info": {
      "name": "python"
    }
  },
  "cells": [
    {
      "cell_type": "markdown",
      "metadata": {
        "id": "view-in-github",
        "colab_type": "text"
      },
      "source": [
        "<a href=\"https://colab.research.google.com/github/Zxlyxc/OOP-58002/blob/main/GUI_Application.ipynb\" target=\"_parent\"><img src=\"https://colab.research.google.com/assets/colab-badge.svg\" alt=\"Open In Colab\"/></a>"
      ]
    },
    {
      "cell_type": "markdown",
      "source": [
        "Create a Python program that displays the grades of a student in prelim, midterm, and final term"
      ],
      "metadata": {
        "id": "aNdH5DJaaYgx"
      }
    },
    {
      "cell_type": "code",
      "execution_count": 54,
      "metadata": {
        "colab": {
          "base_uri": "https://localhost:8080/"
        },
        "id": "nH0kMigraW-7",
        "outputId": "b3c2d84d-21b4-408e-ff98-3038e4eecd80"
      },
      "outputs": [
        {
          "output_type": "stream",
          "name": "stdout",
          "text": [
            "The semestral grade of the student is: 88.5\n",
            "Male\n",
            "My birthday is 2003-07-22\n"
          ]
        }
      ],
      "source": [
        "#@title Student's Grade in OOP\n",
        "\n",
        "Student_Name = \"Jedrick Alexander T. Lacre\" #@param{type:\"string\"}\n",
        "prelim_grade = 90 #@param{type:\"number\"}\n",
        "midterm_grade = 85 #@param{type:\"number\"}\n",
        "final_grade = 90 #@param {type:\"number\"}\n",
        "semestral = (prelim_grade*0.30+midterm_grade*0.30+final_grade*+.40)\n",
        "\n",
        "print(\"The semestral grade of the student is: \"+str(round((semestral),2)))\n",
        "\n",
        "Gender = \"Male\" #@param[\"Male\", \"Female\"]\n",
        "Birthdate = \"2003-07-22\" #@param{type:\"date\"}\n",
        "\n",
        "print(Gender)\n",
        "print(\"My birthday is \" + Birthdate)"
      ]
    }
  ]
}