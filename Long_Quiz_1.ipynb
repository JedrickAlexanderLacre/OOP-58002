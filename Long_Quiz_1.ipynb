{
  "nbformat": 4,
  "nbformat_minor": 0,
  "metadata": {
    "colab": {
      "name": "Long Quiz #1",
      "provenance": [],
      "authorship_tag": "ABX9TyM6TaxPEUssnXgj9S5W3zJD",
      "include_colab_link": true
    },
    "kernelspec": {
      "name": "python3",
      "display_name": "Python 3"
    },
    "language_info": {
      "name": "python"
    }
  },
  "cells": [
    {
      "cell_type": "markdown",
      "metadata": {
        "id": "view-in-github",
        "colab_type": "text"
      },
      "source": [
        "<a href=\"https://colab.research.google.com/github/Zxlyxc/OOP-58002/blob/main/Long_Quiz_1.ipynb\" target=\"_parent\"><img src=\"https://colab.research.google.com/assets/colab-badge.svg\" alt=\"Open In Colab\"/></a>"
      ]
    },
    {
      "cell_type": "markdown",
      "source": [
        "Long Quiz #1\n"
      ],
      "metadata": {
        "id": "zpOtbpdugk1-"
      }
    },
    {
      "cell_type": "code",
      "source": [
        "class Temperature:\n",
        "  def _init_ (temp):\n",
        "    self.temp = temp\n",
        "  def Celsius(c):\n",
        "    return(temp * 9/5) + 32\n",
        "\n",
        "  def Fahrenheit(f):\n",
        "    return(temp - 32) * 5/9 \n",
        "\n",
        "  def display(self):\n",
        "    if convert == 'c':\n",
        "      print(temp, \"Celsius is\" , self.Celsius(), \"Fahrenheit\")\n",
        "    elif convert == 'f':\n",
        "      print(temp, \"Fahrenheit equals\", self.Fahrenheit(), \"Celsius\")\n",
        "    elif convert == 'C':\n",
        "      print(temp, \"Celsius is\", self.Celsius(), \"Fahrenheit\")\n",
        "    elif convert == 'F':\n",
        "      print(temp, \"Fahrenheit equals\", self.Fahrenheit(), \"Celsius\")\n",
        "    else:\n",
        "      print(\"Error! Invalid Input Please try again.\")\n",
        "\n",
        "\n",
        "temp = float(input(\"Please enter the temperature:\"))\n",
        "convert=input(\"Convert to Celsius or Farenheit? (C/F): \")\n",
        "View = Temperature()\n",
        "View.display()"
      ],
      "metadata": {
        "colab": {
          "base_uri": "https://localhost:8080/"
        },
        "id": "1RmEEJLegoD4",
        "outputId": "48bb376d-85ab-4bae-cf36-7467158b84cd"
      },
      "execution_count": 2,
      "outputs": [
        {
          "output_type": "stream",
          "name": "stdout",
          "text": [
            "Please enter the temperature:32\n",
            "Convert to Celsius or Farenheit? (C/F): c\n",
            "32.0 Celsius is 89.6 Fahrenheit\n"
          ]
        }
      ]
    },
    {
      "cell_type": "code",
      "source": [
        ""
      ],
      "metadata": {
        "id": "ktcZc-7whQUQ"
      },
      "execution_count": null,
      "outputs": []
    }
  ]
}