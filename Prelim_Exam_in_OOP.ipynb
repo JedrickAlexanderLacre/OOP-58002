{
  "nbformat": 4,
  "nbformat_minor": 0,
  "metadata": {
    "colab": {
      "name": "Prelim Exam in OOP",
      "provenance": [],
      "authorship_tag": "ABX9TyPBcGoV2fPRGpudlIz8WyfF",
      "include_colab_link": true
    },
    "kernelspec": {
      "name": "python3",
      "display_name": "Python 3"
    },
    "language_info": {
      "name": "python"
    }
  },
  "cells": [
    {
      "cell_type": "markdown",
      "metadata": {
        "id": "view-in-github",
        "colab_type": "text"
      },
      "source": [
        "<a href=\"https://colab.research.google.com/github/Zxlyxc/OOP-58002/blob/main/Prelim_Exam_in_OOP.ipynb\" target=\"_parent\"><img src=\"https://colab.research.google.com/assets/colab-badge.svg\" alt=\"Open In Colab\"/></a>"
      ]
    },
    {
      "cell_type": "markdown",
      "source": [
        "Prelim Exam"
      ],
      "metadata": {
        "id": "p7-pfwpFOKmW"
      }
    },
    {
      "cell_type": "code",
      "source": [
        "class Person:\n",
        "  def __init__(self, student, number, age, school, course):\n",
        "    self.student = student\n",
        "    self.number = number\n",
        "    self.age = age\n",
        "    self.school = school\n",
        "    self.course = course\n",
        "  def myFunction(self):\n",
        "      print(\"My name is\", self.student)\n",
        "      print(\"My student number is\", self.number)\n",
        "      print(\"I'm\", self.age)\n",
        "      print(\"Currently studying at\", self.school)\n",
        "      print(\"and my college course is\", self.course)\n",
        "      \n",
        "p1 = Person(\"Lacre, Jedrick Alexander T.\", 202115687, \"18 years old\", \"Adamson University\", \"Bachelor of Science in Computer Engineering\")\n",
        "p1.myFunction()\n",
        "\n"
      ],
      "metadata": {
        "colab": {
          "base_uri": "https://localhost:8080/"
        },
        "id": "1b6RDIvuHOra",
        "outputId": "e582119f-9209-47af-ce64-fa46b365ee3b"
      },
      "execution_count": 39,
      "outputs": [
        {
          "output_type": "stream",
          "name": "stdout",
          "text": [
            "My name is Lacre, Jedrick Alexander T.\n",
            "My student number is 202115687\n",
            "I'm 18 years old\n",
            "Currently studying at Adamson University\n",
            "and my college course is Bachelor of Science in Computer Engineering\n"
          ]
        }
      ]
    }
  ]
}