{
  "nbformat": 4,
  "nbformat_minor": 0,
  "metadata": {
    "colab": {
      "name": "OOP_Concepts_in_Python.ipynb",
      "provenance": [],
      "authorship_tag": "ABX9TyPKCemYIt8ceMOk48xMNKKA",
      "include_colab_link": true
    },
    "kernelspec": {
      "name": "python3",
      "display_name": "Python 3"
    },
    "language_info": {
      "name": "python"
    }
  },
  "cells": [
    {
      "cell_type": "markdown",
      "metadata": {
        "id": "view-in-github",
        "colab_type": "text"
      },
      "source": [
        "<a href=\"https://colab.research.google.com/github/Zxlyxc/OOP-58002/blob/main/OOP_Concepts_in_Python.ipynb\" target=\"_parent\"><img src=\"https://colab.research.google.com/assets/colab-badge.svg\" alt=\"Open In Colab\"/></a>"
      ]
    },
    {
      "cell_type": "markdown",
      "source": [
        "Create a Class\n"
      ],
      "metadata": {
        "id": "eKRDkW1DsFL7"
      }
    },
    {
      "cell_type": "code",
      "source": [
        "class Car:\n",
        "  pass"
      ],
      "metadata": {
        "id": "TCK4T-LTrzdb"
      },
      "execution_count": 1,
      "outputs": []
    },
    {
      "cell_type": "markdown",
      "source": [
        "Object Methods"
      ],
      "metadata": {
        "id": "91dd0wNxsJt2"
      }
    },
    {
      "cell_type": "code",
      "source": [
        "class Person:\n",
        "  def __init__(self,name, age):\n",
        "    self.name = name\n",
        "    self.age = age\n",
        "  def myFunction(self):\n",
        "    print(\"Hello! My name is\",self.name)\n",
        "    print(\"I am\",self.age, \"years old\")\n",
        "\n",
        "p1 = Person(\"Jedrick\",18)\n",
        "p1.myFunction()"
      ],
      "metadata": {
        "colab": {
          "base_uri": "https://localhost:8080/"
        },
        "id": "tCQNTtRLsLBg",
        "outputId": "4602751a-05fe-43a7-a819-b25cd3467179"
      },
      "execution_count": 3,
      "outputs": [
        {
          "output_type": "stream",
          "name": "stdout",
          "text": [
            "Hello! My name is Jedrick\n",
            "I am 18 years old\n"
          ]
        }
      ]
    },
    {
      "cell_type": "markdown",
      "source": [
        "Create an Object"
      ],
      "metadata": {
        "id": "LFY4VhlssQku"
      }
    },
    {
      "cell_type": "code",
      "source": [
        "class Car:\n",
        "  def __init__(self,name, color):   # all classes have function called __init__\n",
        "    self.name = name                    # attribute names of class named Car\n",
        "    self.color = color\n",
        "  \n",
        "  def decription(self):\n",
        "    return \"The\" + self.name +\"has a color\" + self.color\n",
        "  \n",
        "  def show(self):\n",
        "    print(\"The\"+\" \"+self.name+\" \" + \"has a color\"+\" \"+self.color)\n",
        "\n",
        "\n",
        "car1 = Car(\"BMW\",\"white\")\n",
        "car1.show()"
      ],
      "metadata": {
        "colab": {
          "base_uri": "https://localhost:8080/"
        },
        "id": "jro3culNsSRZ",
        "outputId": "c60185ad-26f6-4c08-cd5a-9c5537eef577"
      },
      "execution_count": 4,
      "outputs": [
        {
          "output_type": "stream",
          "name": "stdout",
          "text": [
            "The BMW has a color white\n"
          ]
        }
      ]
    },
    {
      "cell_type": "markdown",
      "source": [
        "Modify an Object Property"
      ],
      "metadata": {
        "id": "9efI_9ALsaCx"
      }
    },
    {
      "cell_type": "code",
      "source": [
        "car1.name = \"Lamborghini\"\n",
        "print(car1.name)\n",
        "\n",
        "car1.color = \"pink\"\n",
        "print(car1.color)"
      ],
      "metadata": {
        "colab": {
          "base_uri": "https://localhost:8080/"
        },
        "id": "VjLeNgGesbrE",
        "outputId": "b07cf052-36b4-434b-d11c-6e61d7d3cd65"
      },
      "execution_count": 6,
      "outputs": [
        {
          "output_type": "stream",
          "name": "stdout",
          "text": [
            "Lamborghini\n",
            "pink\n"
          ]
        }
      ]
    },
    {
      "cell_type": "markdown",
      "source": [
        "Delete an Object Property"
      ],
      "metadata": {
        "id": "-qpjIr4dslG1"
      }
    },
    {
      "cell_type": "code",
      "source": [
        "del car1.color\n",
        "print(car1.color)"
      ],
      "metadata": {
        "colab": {
          "base_uri": "https://localhost:8080/",
          "height": 183
        },
        "id": "9P1EKdbQsm5t",
        "outputId": "cf5db440-6fc6-4064-c589-f345e67b4627"
      },
      "execution_count": 8,
      "outputs": [
        {
          "output_type": "error",
          "ename": "AttributeError",
          "evalue": "ignored",
          "traceback": [
            "\u001b[0;31m---------------------------------------------------------------------------\u001b[0m",
            "\u001b[0;31mAttributeError\u001b[0m                            Traceback (most recent call last)",
            "\u001b[0;32m<ipython-input-8-4849355a0500>\u001b[0m in \u001b[0;36m<module>\u001b[0;34m()\u001b[0m\n\u001b[0;32m----> 1\u001b[0;31m \u001b[0;32mdel\u001b[0m \u001b[0mcar1\u001b[0m\u001b[0;34m.\u001b[0m\u001b[0mcolor\u001b[0m\u001b[0;34m\u001b[0m\u001b[0;34m\u001b[0m\u001b[0m\n\u001b[0m\u001b[1;32m      2\u001b[0m \u001b[0mprint\u001b[0m\u001b[0;34m(\u001b[0m\u001b[0mcar1\u001b[0m\u001b[0;34m.\u001b[0m\u001b[0mcolor\u001b[0m\u001b[0;34m)\u001b[0m\u001b[0;34m\u001b[0m\u001b[0;34m\u001b[0m\u001b[0m\n",
            "\u001b[0;31mAttributeError\u001b[0m: color"
          ]
        }
      ]
    },
    {
      "cell_type": "markdown",
      "source": [
        "Application 1 - Write a Python program that computes for the Area and Perimeter of a Square, and create a class name Square with side as its attribute"
      ],
      "metadata": {
        "id": "A16modpIsyW6"
      }
    },
    {
      "cell_type": "code",
      "source": [
        "#Area of a Square = s*s\n",
        "#Perimeter of a Square = 4*s = s+s+s+s\n",
        "\n",
        "class Square:\n",
        "  def __init__(self,side):\n",
        "    self.side = side\n",
        "\n",
        "  def Area(self):\n",
        "    return self.side*self.side\n",
        "  \n",
        "  def Perimeter(self):\n",
        "    return 4*(self.side)\n",
        "\n",
        "  def display(self):\n",
        "    print(\"The area of a square is\", self.Area())\n",
        "    print(\"The perimeter of a square is\", self.Perimeter())\n",
        "\n",
        "sq1 = Square(2)\n",
        "sq1.display()"
      ],
      "metadata": {
        "colab": {
          "base_uri": "https://localhost:8080/"
        },
        "id": "MhRUdLfZs1sD",
        "outputId": "68160406-3784-4285-88e3-634cac9701b1"
      },
      "execution_count": 9,
      "outputs": [
        {
          "output_type": "stream",
          "name": "stdout",
          "text": [
            "The area of a square is 4\n",
            "The perimeter of a square is 8\n"
          ]
        }
      ]
    },
    {
      "cell_type": "markdown",
      "source": [
        "Application 2 - Write a Python program that is display your student no. and fullname(Surname, First Name, MI) and create a class name OOP_58002\n",
        "\n"
      ],
      "metadata": {
        "id": "PES82smStFY-"
      }
    },
    {
      "cell_type": "code",
      "source": [
        "class Person:\n",
        "  def __init__(self, student, number):\n",
        "    self.student = student\n",
        "    self.number = number\n",
        "  def myFunction(self):\n",
        "    print(\"Hello! My name is\", self.student) \n",
        "    print(\"and my student number is\", self.number)\n",
        "    print(\"Section - OOP_58002\")\n",
        "\n",
        "p1 = Person(\"Lacre, Jedrick Alexander T.\", 202115687)\n",
        "p1.myFunction()"
      ],
      "metadata": {
        "colab": {
          "base_uri": "https://localhost:8080/"
        },
        "id": "3N6T1u1AtGv0",
        "outputId": "f1c9b9e1-91db-4591-9589-1b5dde23cedf"
      },
      "execution_count": 11,
      "outputs": [
        {
          "output_type": "stream",
          "name": "stdout",
          "text": [
            "Hello! My name is Lacre, Jedrick Alexander T.\n",
            "and my student number is 202115687\n",
            "Section - OOP_58002\n"
          ]
        }
      ]
    }
  ]
}